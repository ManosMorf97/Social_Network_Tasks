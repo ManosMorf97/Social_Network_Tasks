{
 "cells": [
  {
   "cell_type": "code",
   "execution_count": 18,
   "id": "3064d6e8",
   "metadata": {},
   "outputs": [
    {
     "name": "stdout",
     "output_type": "stream",
     "text": [
      "Graph with 4089 nodes and 85087 edges\n"
     ]
    }
   ],
   "source": [
    "import glob\n",
    "files=glob.glob('data2/*.edges')\n",
    "import networkx as nx\n",
    "G=[]\n",
    "for file in files:\n",
    "    G.append(nx.read_edgelist(file))\n",
    "Super_G=nx.union(G[0],G[1],rename=(\"G0\",\"G1\"))\n",
    "for i in range(2,len(files)):\n",
    "    Super_G=nx.union(Super_G,G[i],rename=(\"Super_G\"+str(i),\"G\"+str(i)))\n",
    "print(Super_G)"
   ]
  },
  {
   "cell_type": "code",
   "execution_count": 19,
   "id": "5b24f9cd",
   "metadata": {},
   "outputs": [
    {
     "name": "stdout",
     "output_type": "stream",
     "text": [
      "Stored 'Super_G' (Graph)\n"
     ]
    }
   ],
   "source": [
    "%store Super_G"
   ]
  },
  {
   "cell_type": "code",
   "execution_count": null,
   "id": "5388c472",
   "metadata": {},
   "outputs": [],
   "source": []
  }
 ],
 "metadata": {
  "kernelspec": {
   "display_name": "Python 3 (ipykernel)",
   "language": "python",
   "name": "python3"
  },
  "language_info": {
   "codemirror_mode": {
    "name": "ipython",
    "version": 3
   },
   "file_extension": ".py",
   "mimetype": "text/x-python",
   "name": "python",
   "nbconvert_exporter": "python",
   "pygments_lexer": "ipython3",
   "version": "3.9.7"
  }
 },
 "nbformat": 4,
 "nbformat_minor": 5
}
