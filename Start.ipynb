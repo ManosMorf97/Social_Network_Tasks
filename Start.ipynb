{
 "cells": [
  {
   "cell_type": "code",
   "execution_count": 3,
   "id": "3064d6e8",
   "metadata": {},
   "outputs": [],
   "source": [
    "\"\"\"\n",
    "\n",
    "import networkx as nx\n",
    "G=[]\n",
    "for file in files:\n",
    "    G.append(nx.read_edgelist(file))\n",
    "Super_G=nx.union(G[0],G[1],rename=(\"G0\",\"G1\"))\n",
    "for i in range(2,len(files)):\n",
    "    Super_G=nx.disjoint_union(Super_G,G[i])\n",
    "print(Super_G)\n",
    "\"\"\"\n",
    "import networkx as nx\n",
    "G=nx.read_edgelist('data2/1912.edges')"
   ]
  },
  {
   "cell_type": "code",
   "execution_count": 4,
   "id": "5b24f9cd",
   "metadata": {},
   "outputs": [
    {
     "name": "stdout",
     "output_type": "stream",
     "text": [
      "Stored 'G' (Graph)\n"
     ]
    }
   ],
   "source": [
    "%store G"
   ]
  },
  {
   "cell_type": "code",
   "execution_count": null,
   "id": "5388c472",
   "metadata": {},
   "outputs": [],
   "source": []
  }
 ],
 "metadata": {
  "kernelspec": {
   "display_name": "Python 3 (ipykernel)",
   "language": "python",
   "name": "python3"
  },
  "language_info": {
   "codemirror_mode": {
    "name": "ipython",
    "version": 3
   },
   "file_extension": ".py",
   "mimetype": "text/x-python",
   "name": "python",
   "nbconvert_exporter": "python",
   "pygments_lexer": "ipython3",
   "version": "3.9.7"
  }
 },
 "nbformat": 4,
 "nbformat_minor": 5
}
