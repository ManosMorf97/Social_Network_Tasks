{
 "cells": [
  {
   "cell_type": "code",
   "execution_count": 1,
   "id": "ac2ef776",
   "metadata": {},
   "outputs": [],
   "source": [
    "%matplotlib inline\n",
    "import networkx as nx\n",
    "import matplotlib.pyplot as plt\n",
    "import scipy\n",
    "import numpy as np\n",
    "import pandas as pd"
   ]
  },
  {
   "cell_type": "code",
   "execution_count": 2,
   "id": "a073f813",
   "metadata": {},
   "outputs": [],
   "source": [
    "G=nx.read_edgelist('data/facebook_combined.txt',nodetype=int)"
   ]
  },
  {
   "cell_type": "code",
   "execution_count": 3,
   "id": "027f94fc",
   "metadata": {},
   "outputs": [
    {
     "name": "stdout",
     "output_type": "stream",
     "text": [
      "Stored 'G' (Graph)\n"
     ]
    }
   ],
   "source": [
    "%store G"
   ]
  },
  {
   "cell_type": "code",
   "execution_count": 2,
   "id": "6dc8d6a8",
   "metadata": {},
   "outputs": [],
   "source": [
    "%store -r G"
   ]
  },
  {
   "cell_type": "code",
   "execution_count": 3,
   "id": "754e5a6f",
   "metadata": {},
   "outputs": [],
   "source": [
    "def create_attribute(name,nxfunction,Graph):\n",
    "    dict_name={}\n",
    "    for edges in [Graph.edges,nx.complement(Graph).edges]:\n",
    "        for u,v in edges:\n",
    "            dict_name[u,v]=len(list(nxfunction(Graph,[(u,v)])))\n",
    "    nx.set_edge_attributes(Graph,dict_name,name)\n",
    "\n",
    "def common_neighbors(Graph,list_par):\n",
    "    return nx.common_neighbors(Graph,list_par[0][0],list_par[0][1])\n",
    "    \n",
    "def clustering_coefficient_pair(Graph,list_par):\n",
    "    return nx.clustering(Graph,list_par[0][0])*nx.clustering(Graph,list_par[0][1])"
   ]
  },
  {
   "cell_type": "code",
   "execution_count": null,
   "id": "6ac61cb4",
   "metadata": {},
   "outputs": [
    {
     "name": "stdout",
     "output_type": "stream",
     "text": [
      "Next\n"
     ]
    }
   ],
   "source": [
    "names=[\"common_neighbors\",\"jaccard's coefficient\",\"Resource allocation\",\"Adamic/Adar\",\"Preferential Attachment\",\n",
    "      \"Clustering Coefficient\",\"katz\",\"SimRank\"]\n",
    "functions=[common_neighbors,nx.jaccard_coefficient,nx.resource_allocation_index,nx.adamic_adar_index,\n",
    "          nx.preferential_attachment,clustering_coefficient_pair]\n",
    "for i in range(len(functions)):\n",
    "    create_attribute(names[i],functions[i],G)\n",
    "    print(\"Next\")"
   ]
  },
  {
   "cell_type": "code",
   "execution_count": 7,
   "id": "a4560cd4",
   "metadata": {},
   "outputs": [
    {
     "ename": "AttributeError",
     "evalue": "'Graph' object has no attribute 'shape'",
     "output_type": "error",
     "traceback": [
      "\u001b[0;31m---------------------------------------------------------------------------\u001b[0m",
      "\u001b[0;31mAttributeError\u001b[0m                            Traceback (most recent call last)",
      "Input \u001b[0;32mIn [7]\u001b[0m, in \u001b[0;36m<cell line: 1>\u001b[0;34m()\u001b[0m\n\u001b[0;32m----> 1\u001b[0m \u001b[38;5;28mprint\u001b[39m(\u001b[43mG\u001b[49m\u001b[38;5;241;43m.\u001b[39;49m\u001b[43mshape\u001b[49m)\n",
      "\u001b[0;31mAttributeError\u001b[0m: 'Graph' object has no attribute 'shape'"
     ]
    }
   ],
   "source": []
  },
  {
   "cell_type": "code",
   "execution_count": null,
   "id": "22863c8d",
   "metadata": {},
   "outputs": [],
   "source": []
  }
 ],
 "metadata": {
  "kernelspec": {
   "display_name": "Python 3 (ipykernel)",
   "language": "python",
   "name": "python3"
  },
  "language_info": {
   "codemirror_mode": {
    "name": "ipython",
    "version": 3
   },
   "file_extension": ".py",
   "mimetype": "text/x-python",
   "name": "python",
   "nbconvert_exporter": "python",
   "pygments_lexer": "ipython3",
   "version": "3.10.4"
  }
 },
 "nbformat": 4,
 "nbformat_minor": 5
}
