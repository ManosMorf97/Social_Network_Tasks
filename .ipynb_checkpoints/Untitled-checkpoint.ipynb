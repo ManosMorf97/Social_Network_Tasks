{
 "cells": [
  {
   "cell_type": "code",
   "execution_count": 2,
   "id": "8fb53aba",
   "metadata": {},
   "outputs": [
    {
     "name": "stdout",
     "output_type": "stream",
     "text": [
      "Collecting matplotlib\n",
      "  Using cached matplotlib-3.5.2-cp310-cp310-manylinux_2_17_x86_64.manylinux2014_x86_64.whl (11.9 MB)\n",
      "Collecting numpy>=1.17\n",
      "  Using cached numpy-1.22.4-cp310-cp310-manylinux_2_17_x86_64.manylinux2014_x86_64.whl (16.8 MB)\n",
      "Requirement already satisfied: pyparsing>=2.2.1 in /home/manos/notebook/jupyterenv/lib/python3.10/site-packages (from matplotlib) (3.0.9)\n",
      "Collecting pillow>=6.2.0\n",
      "  Using cached Pillow-9.1.1-cp310-cp310-manylinux_2_17_x86_64.manylinux2014_x86_64.whl (3.1 MB)\n",
      "Collecting fonttools>=4.22.0\n",
      "  Using cached fonttools-4.33.3-py3-none-any.whl (930 kB)\n",
      "Requirement already satisfied: python-dateutil>=2.7 in /home/manos/notebook/jupyterenv/lib/python3.10/site-packages (from matplotlib) (2.8.2)\n",
      "Collecting kiwisolver>=1.0.1\n",
      "  Using cached kiwisolver-1.4.2-cp310-cp310-manylinux_2_12_x86_64.manylinux2010_x86_64.whl (1.6 MB)\n",
      "Requirement already satisfied: packaging>=20.0 in /home/manos/notebook/jupyterenv/lib/python3.10/site-packages (from matplotlib) (21.3)\n",
      "Collecting cycler>=0.10\n",
      "  Using cached cycler-0.11.0-py3-none-any.whl (6.4 kB)\n",
      "Requirement already satisfied: six>=1.5 in /home/manos/notebook/jupyterenv/lib/python3.10/site-packages (from python-dateutil>=2.7->matplotlib) (1.16.0)\n",
      "Installing collected packages: pillow, numpy, kiwisolver, fonttools, cycler, matplotlib\n",
      "Successfully installed cycler-0.11.0 fonttools-4.33.3 kiwisolver-1.4.2 matplotlib-3.5.2 numpy-1.22.4 pillow-9.1.1\n",
      "\u001b[33mWARNING: You are using pip version 22.0.4; however, version 22.1.1 is available.\n",
      "You should consider upgrading via the '/home/manos/notebook/jupyterenv/bin/python -m pip install --upgrade pip' command.\u001b[0m\u001b[33m\n",
      "\u001b[0m"
     ]
    }
   ],
   "source": [
    "!pip install matplotlib"
   ]
  },
  {
   "cell_type": "code",
   "execution_count": 4,
   "id": "f081bdad",
   "metadata": {},
   "outputs": [
    {
     "name": "stdout",
     "output_type": "stream",
     "text": [
      "Requirement already satisfied: pip in /home/manos/notebook/jupyterenv/lib/python3.10/site-packages (22.0.4)\n",
      "Collecting pip\n",
      "  Using cached pip-22.1.1-py3-none-any.whl (2.1 MB)\n",
      "Installing collected packages: pip\n",
      "  Attempting uninstall: pip\n",
      "    Found existing installation: pip 22.0.4\n",
      "    Uninstalling pip-22.0.4:\n",
      "      Successfully uninstalled pip-22.0.4\n",
      "Successfully installed pip-22.1.1\n"
     ]
    }
   ],
   "source": [
    "!pip install --upgrade pip"
   ]
  },
  {
   "cell_type": "code",
   "execution_count": 6,
   "id": "abfec3b4",
   "metadata": {},
   "outputs": [
    {
     "name": "stdout",
     "output_type": "stream",
     "text": [
      "Collecting networkx\n",
      "  Using cached networkx-2.8.2-py3-none-any.whl (2.0 MB)\n",
      "Installing collected packages: networkx\n",
      "Successfully installed networkx-2.8.2\n"
     ]
    }
   ],
   "source": [
    "!pip install networkx"
   ]
  },
  {
   "cell_type": "code",
   "execution_count": 8,
   "id": "39ea5e81",
   "metadata": {},
   "outputs": [
    {
     "name": "stdout",
     "output_type": "stream",
     "text": [
      "Collecting scipy\n",
      "  Downloading scipy-1.8.1-cp310-cp310-manylinux_2_17_x86_64.manylinux2014_x86_64.whl (42.2 MB)\n",
      "\u001b[2K     \u001b[38;2;114;156;31m━━━━━━━━━━━━━━━━━━━━━━━━━━━━━━━━━━━━━━━━\u001b[0m \u001b[32m42.2/42.2 MB\u001b[0m \u001b[31m2.1 MB/s\u001b[0m eta \u001b[36m0:00:00\u001b[0mm eta \u001b[36m0:00:01\u001b[0m[36m0:00:01\u001b[0m\n",
      "\u001b[?25hRequirement already satisfied: numpy<1.25.0,>=1.17.3 in /home/manos/notebook/jupyterenv/lib/python3.10/site-packages (from scipy) (1.22.4)\n",
      "Installing collected packages: scipy\n",
      "Successfully installed scipy-1.8.1\n"
     ]
    }
   ],
   "source": [
    "!pip install scipy"
   ]
  },
  {
   "cell_type": "code",
   "execution_count": 10,
   "id": "d87cdaf9",
   "metadata": {},
   "outputs": [
    {
     "name": "stdout",
     "output_type": "stream",
     "text": [
      "Collecting pandas\n",
      "  Using cached pandas-1.4.2-cp310-cp310-manylinux_2_17_x86_64.manylinux2014_x86_64.whl (11.7 MB)\n",
      "Requirement already satisfied: numpy>=1.21.0 in /home/manos/notebook/jupyterenv/lib/python3.10/site-packages (from pandas) (1.22.4)\n",
      "Collecting pytz>=2020.1\n",
      "  Using cached pytz-2022.1-py2.py3-none-any.whl (503 kB)\n",
      "Requirement already satisfied: python-dateutil>=2.8.1 in /home/manos/notebook/jupyterenv/lib/python3.10/site-packages (from pandas) (2.8.2)\n",
      "Requirement already satisfied: six>=1.5 in /home/manos/notebook/jupyterenv/lib/python3.10/site-packages (from python-dateutil>=2.8.1->pandas) (1.16.0)\n",
      "Installing collected packages: pytz, pandas\n",
      "Successfully installed pandas-1.4.2 pytz-2022.1\n"
     ]
    }
   ],
   "source": [
    "!pip install pandas"
   ]
  },
  {
   "cell_type": "code",
   "execution_count": 9,
   "id": "b9864d44",
   "metadata": {},
   "outputs": [],
   "source": [
    "%matplotlib inline\n",
    "import networkx as nx\n",
    "import matplotlib.pyplot as plt\n",
    "import scipy\n",
    "import numpy as np\n",
    "import pandas as pd"
   ]
  },
  {
   "cell_type": "code",
   "execution_count": 12,
   "id": "453e893f",
   "metadata": {},
   "outputs": [],
   "source": [
    "G=nx.read_edgelist('data/facebook_combined.txt',nodetype=int)"
   ]
  },
  {
   "cell_type": "code",
   "execution_count": 13,
   "id": "dd467903",
   "metadata": {},
   "outputs": [
    {
     "name": "stdout",
     "output_type": "stream",
     "text": [
      "Stored 'G' (Graph)\n"
     ]
    }
   ],
   "source": [
    "%store G"
   ]
  },
  {
   "cell_type": "code",
   "execution_count": 10,
   "id": "e3dc23a9",
   "metadata": {},
   "outputs": [],
   "source": [
    "%store -r G"
   ]
  },
  {
   "cell_type": "code",
   "execution_count": 22,
   "id": "74fe799a",
   "metadata": {},
   "outputs": [],
   "source": [
    "def create_attribute(name,nxfunction,Graph):\n",
    "    work=True\n",
    "    if name in [\"common_neighbors\",\"Clustering Coefficient\"]:\n",
    "        work=False\n",
    "    dict_name={}\n",
    "    nodes=list(Graph.nodes)\n",
    "    for i in range(len(nodes)):\n",
    "        for j in range(i+1,len(nodes)):\n",
    "            metric=nxfunction(Graph,[(nodes[i],nodes[j])])\n",
    "            for_loop(dict_name,nodes[i],nodes[j],metric,work)\n",
    "            print(metric[2])\n",
    "    nx.set_edge_attributes(Graph,dict_name,name)\n",
    "\n",
    "def common_neighbors(Graph,list_par):\n",
    "    list_returned=[0,0,len(list(nx.common_neighbors(Graph,list_par[0][0],list_par[0][1])))]\n",
    "    return list_returned\n",
    "    \n",
    "def clustering_coefficient_pair(Graph,list_par):\n",
    "    list_returned=[0,0,nx.clustering(Graph,list_par[0][0])*nx.clustering(Graph,list_par[0][1])]\n",
    "    return list_returned\n",
    "\n",
    "def for_loop(dictionary,key1,key2,iterated_object,work=True):\n",
    "    if work:\n",
    "        for u,v,p in iterated_object:\n",
    "            dictionary[key1,key2]=p\n",
    "            print(p)\n",
    "        \n",
    "        "
   ]
  },
  {
   "cell_type": "code",
   "execution_count": 23,
   "id": "53328d23",
   "metadata": {},
   "outputs": [],
   "source": [
    "names=[\"common_neighbors\",\"jaccard's coefficient\",\"Resource allocation\",\"Adamic/Adar\",\"Preferential Attachment\",\n",
    "      \"Clustering Coefficient\",\"katz\",\"SimRank\"]\n",
    "functions=[common_neighbors,nx.jaccard_coefficient,nx.resource_allocation_index,nx.adamic_adar_index,\n",
    "          nx.preferential_attachment,clustering_coefficient_pair]\n",
    "metrics= {names[i]: functions[i] for i in range(len(functions))}\n",
    "#for i in range(len(functions)):\n",
    "    #create_attribute(names[i],functions[i],G)"
   ]
  },
  {
   "cell_type": "code",
   "execution_count": 24,
   "id": "5173b673",
   "metadata": {},
   "outputs": [],
   "source": [
    "def create_dict_attribute(name):\n",
    "    create_attribute(name,metrics[name],G)\n",
    "    %store G"
   ]
  },
  {
   "cell_type": "code",
   "execution_count": 25,
   "id": "1a1f0828",
   "metadata": {},
   "outputs": [
    {
     "ename": "TypeError",
     "evalue": "'generator' object is not subscriptable",
     "output_type": "error",
     "traceback": [
      "\u001b[0;31m---------------------------------------------------------------------------\u001b[0m",
      "\u001b[0;31mTypeError\u001b[0m                                 Traceback (most recent call last)",
      "Input \u001b[0;32mIn [25]\u001b[0m, in \u001b[0;36m<cell line: 2>\u001b[0;34m()\u001b[0m\n\u001b[1;32m      1\u001b[0m \u001b[38;5;66;03m#create_dict_attribute(\"common_neighbors\")\u001b[39;00m\n\u001b[0;32m----> 2\u001b[0m \u001b[43mcreate_dict_attribute\u001b[49m\u001b[43m(\u001b[49m\u001b[38;5;124;43m\"\u001b[39;49m\u001b[38;5;124;43mjaccard\u001b[39;49m\u001b[38;5;124;43m'\u001b[39;49m\u001b[38;5;124;43ms coefficient\u001b[39;49m\u001b[38;5;124;43m\"\u001b[39;49m\u001b[43m)\u001b[49m\n",
      "Input \u001b[0;32mIn [24]\u001b[0m, in \u001b[0;36mcreate_dict_attribute\u001b[0;34m(name)\u001b[0m\n\u001b[1;32m      1\u001b[0m \u001b[38;5;28;01mdef\u001b[39;00m \u001b[38;5;21mcreate_dict_attribute\u001b[39m(name):\n\u001b[0;32m----> 2\u001b[0m     \u001b[43mcreate_attribute\u001b[49m\u001b[43m(\u001b[49m\u001b[43mname\u001b[49m\u001b[43m,\u001b[49m\u001b[43mmetrics\u001b[49m\u001b[43m[\u001b[49m\u001b[43mname\u001b[49m\u001b[43m]\u001b[49m\u001b[43m,\u001b[49m\u001b[43mG\u001b[49m\u001b[43m)\u001b[49m\n\u001b[1;32m      3\u001b[0m     get_ipython()\u001b[38;5;241m.\u001b[39mrun_line_magic(\u001b[38;5;124m'\u001b[39m\u001b[38;5;124mstore\u001b[39m\u001b[38;5;124m'\u001b[39m, \u001b[38;5;124m'\u001b[39m\u001b[38;5;124mG\u001b[39m\u001b[38;5;124m'\u001b[39m)\n",
      "Input \u001b[0;32mIn [22]\u001b[0m, in \u001b[0;36mcreate_attribute\u001b[0;34m(name, nxfunction, Graph)\u001b[0m\n\u001b[1;32m      9\u001b[0m         metric\u001b[38;5;241m=\u001b[39mnxfunction(Graph,[(nodes[i],nodes[j])])\n\u001b[1;32m     10\u001b[0m         for_loop(dict_name,nodes[i],nodes[j],metric,work)\n\u001b[0;32m---> 11\u001b[0m         \u001b[38;5;28mprint\u001b[39m(\u001b[43mmetric\u001b[49m\u001b[43m[\u001b[49m\u001b[38;5;241;43m2\u001b[39;49m\u001b[43m]\u001b[49m)\n\u001b[1;32m     12\u001b[0m nx\u001b[38;5;241m.\u001b[39mset_edge_attributes(Graph,dict_name,name)\n",
      "\u001b[0;31mTypeError\u001b[0m: 'generator' object is not subscriptable"
     ]
    }
   ],
   "source": [
    "#create_dict_attribute(\"common_neighbors\")\n",
    "create_dict_attribute(\"jaccard's coefficient\")"
   ]
  },
  {
   "cell_type": "markdown",
   "id": "2632280d",
   "metadata": {},
   "source": [
    "#### Clustering Coefficient failed"
   ]
  },
  {
   "cell_type": "code",
   "execution_count": 6,
   "id": "cbc5c4b6",
   "metadata": {},
   "outputs": [
    {
     "data": {
      "image/png": "[encoded data removed]",
      "text/plain": [
       "<Figure size 432x288 with 1 Axes>"
      ]
     },
     "metadata": {
      "needs_background": "light"
     },
     "output_type": "display_data"
    },
    {
     "data": {
      "image/png": "[encoded data removed]",
      "text/plain": [
       "<Figure size 432x288 with 1 Axes>"
      ]
     },
     "metadata": {
      "needs_background": "light"
     },
     "output_type": "display_data"
    },
    {
     "data": {
      "image/png": "[encoded data removed]",
      "text/plain": [
       "<Figure size 432x288 with 1 Axes>"
      ]
     },
     "metadata": {
      "needs_background": "light"
     },
     "output_type": "display_data"
    },
    {
     "data": {
      "image/png": "[encoded data removed]",
      "text/plain": [
       "<Figure size 432x288 with 1 Axes>"
      ]
     },
     "metadata": {
      "needs_background": "light"
     },
     "output_type": "display_data"
    },
    {
     "data": {
      "image/png": "[encoded data removed]",
      "text/plain": [
       "<Figure size 432x288 with 1 Axes>"
      ]
     },
     "metadata": {
      "needs_background": "light"
     },
     "output_type": "display_data"
    },
    {
     "data": {
      "image/png": "[encoded data removed]",
      "text/plain": [
       "<Figure size 432x288 with 1 Axes>"
      ]
     },
     "metadata": {
      "needs_background": "light"
     },
     "output_type": "display_data"
    },
    {
     "data": {
      "image/png": "[encoded data removed]",
      "text/plain": [
       "<Figure size 432x288 with 1 Axes>"
      ]
     },
     "metadata": {
      "needs_background": "light"
     },
     "output_type": "display_data"
    },
    {
     "data": {
      "image/png": "[encoded data removed]",
      "text/plain": [
       "<Figure size 432x288 with 1 Axes>"
      ]
     },
     "metadata": {
      "needs_background": "light"
     },
     "output_type": "display_data"
    }
   ],
   "source": [
    "for name in names:\n",
    "    plt.title(name)\n",
    "    plt.plot(range(len(nx.get_edge_attributes(G,name).keys())),nx.get_edge_attributes(G,name).values())\n",
    "    plt.show()"
   ]
  },
  {
   "cell_type": "code",
   "execution_count": 41,
   "id": "1dbd71ec",
   "metadata": {},
   "outputs": [
    {
     "data": {
      "text/plain": [
       "[<matplotlib.lines.Line2D at 0x7f58e66e2170>]"
      ]
     },
     "execution_count": 41,
     "metadata": {},
     "output_type": "execute_result"
    },
    {
     "data": {
      "image/png": "[encoded data removed]",
      "text/plain": [
       "<Figure size 432x288 with 1 Axes>"
      ]
     },
     "metadata": {
      "needs_background": "light"
     },
     "output_type": "display_data"
    }
   ],
   "source": [
    "plt.plot(nx.get_edge_attributes(G,names[0]).values())"
   ]
  },
  {
   "cell_type": "code",
   "execution_count": 42,
   "id": "04547220",
   "metadata": {},
   "outputs": [
    {
     "data": {
      "text/plain": [
       "[<matplotlib.lines.Line2D at 0x7f58e6a45000>]"
      ]
     },
     "execution_count": 42,
     "metadata": {},
     "output_type": "execute_result"
    },
    {
     "data": {
      "image/png": "[encoded data removed]",
      "text/plain": [
       "<Figure size 432x288 with 1 Axes>"
      ]
     },
     "metadata": {
      "needs_background": "light"
     },
     "output_type": "display_data"
    }
   ],
   "source": [
    "plt.plot(nx.get_edge_attributes(G,names[1]).values())"
   ]
  },
  {
   "cell_type": "code",
   "execution_count": null,
   "id": "18d105ae",
   "metadata": {},
   "outputs": [],
   "source": []
  }
 ],
 "metadata": {
  "kernelspec": {
   "display_name": "Python 3 (ipykernel)",
   "language": "python",
   "name": "python3"
  },
  "language_info": {
   "codemirror_mode": {
    "name": "ipython",
    "version": 3
   },
   "file_extension": ".py",
   "mimetype": "text/x-python",
   "name": "python",
   "nbconvert_exporter": "python",
   "pygments_lexer": "ipython3",
   "version": "3.10.4"
  }
 },
 "nbformat": 4,
 "nbformat_minor": 5
}
