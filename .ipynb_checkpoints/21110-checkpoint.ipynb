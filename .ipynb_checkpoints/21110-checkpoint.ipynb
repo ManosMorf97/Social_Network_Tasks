{
 "cells": [
  {
   "cell_type": "code",
   "execution_count": 1,
   "id": "ebe416a2",
   "metadata": {},
   "outputs": [
    {
     "name": "stdout",
     "output_type": "stream",
     "text": [
      "Graph with 4089 nodes and 85087 edges\n"
     ]
    }
   ],
   "source": [
    "%store -r Super_G\n",
    "print(Super_G)"
   ]
  },
  {
   "cell_type": "code",
   "execution_count": null,
   "id": "287f3b0b",
   "metadata": {},
   "outputs": [],
   "source": [
    "import networkx as nx"
   ]
  },
  {
   "cell_type": "code",
   "execution_count": null,
   "id": "d4d02a1f",
   "metadata": {},
   "outputs": [],
   "source": [
    "def metrics_calculation(G):7\n",
    "    "
   ]
  }
 ],
 "metadata": {
  "kernelspec": {
   "display_name": "Python 3 (ipykernel)",
   "language": "python",
   "name": "python3"
  },
  "language_info": {
   "codemirror_mode": {
    "name": "ipython",
    "version": 3
   },
   "file_extension": ".py",
   "mimetype": "text/x-python",
   "name": "python",
   "nbconvert_exporter": "python",
   "pygments_lexer": "ipython3",
   "version": "3.9.7"
  }
 },
 "nbformat": 4,
 "nbformat_minor": 5
}
